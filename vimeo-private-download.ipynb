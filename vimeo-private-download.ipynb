{
 "cells": [
  {
   "cell_type": "markdown",
   "id": "e819893a",
   "metadata": {},
   "source": [
    "*Recurso*: https://pypi.org/project/vimeo-downloader/"
   ]
  },
  {
   "cell_type": "code",
   "execution_count": 3,
   "id": "de8987b4",
   "metadata": {},
   "outputs": [],
   "source": [
    "# !pip install git+https://github.com/yashrathi-git/vimeo_downloader"
   ]
  },
  {
   "cell_type": "code",
   "execution_count": 4,
   "id": "162c0f33",
   "metadata": {},
   "outputs": [],
   "source": [
    "from vimeo_downloader import Vimeo"
   ]
  },
  {
   "cell_type": "code",
   "execution_count": 12,
   "id": "4b7d92dc",
   "metadata": {},
   "outputs": [],
   "source": [
    "v = Vimeo(\"https://vimeo.com/303618388\")\n",
    "best_stream = v.streams[0]\n",
    "best_stream.download(\"\", filename=\"Probando\")"
   ]
  },
  {
   "cell_type": "markdown",
   "id": "9c07b6b0",
   "metadata": {},
   "source": [
    "## Info Necesaria"
   ]
  },
  {
   "cell_type": "code",
   "execution_count": 20,
   "id": "db9afafc",
   "metadata": {},
   "outputs": [],
   "source": [
    "web_url = \"https://www.instituthumanitats.org/es/cursos/la-biblia-en-la-literatura-occidental-online\"\n",
    "\n",
    "video_url = \"https://player.vimeo.com/video/785727934\"\n",
    "\n",
    "cookies = \"\"\"\n",
    " cookie-agreed=2; \n",
    " cookie-agreed-version=1.0.0; \n",
    " SSESS7d3670a44a8aded6f7c6e2409ea6076f=-4k1tOem0WnxEIlboH8XiB05VHSi2GlVfqW0Y5reS-wWqKzf\n",
    "\"\"\".strip()\n",
    "\n",
    "carpeta = \"\"\n",
    "filename = \"biblia_#1\""
   ]
  },
  {
   "cell_type": "code",
   "execution_count": 30,
   "id": "7cda87b3",
   "metadata": {},
   "outputs": [],
   "source": [
    "v = Vimeo(\n",
    "    url=video_url,\n",
    "    embedded_on=web_url,\n",
    "    cookies=cookies\n",
    ")\n",
    "\n",
    "max_quality_stream = v.streams[-1]\n",
    "\n",
    "max_quality_stream.download(carpeta, filename)"
   ]
  },
  {
   "cell_type": "markdown",
   "id": "10cf192d",
   "metadata": {},
   "source": [
    "# Intentando Log In"
   ]
  },
  {
   "cell_type": "code",
   "execution_count": 36,
   "id": "7183f691",
   "metadata": {},
   "outputs": [],
   "source": [
    "# !pip install twill"
   ]
  },
  {
   "cell_type": "code",
   "execution_count": 37,
   "id": "3158460d",
   "metadata": {},
   "outputs": [],
   "source": [
    "from twill.commands import *"
   ]
  },
  {
   "cell_type": "code",
   "execution_count": 38,
   "id": "dddf7d77",
   "metadata": {},
   "outputs": [],
   "source": [
    "url = \"https://www.instituthumanitats.org/es/students/login?destination=/es/cursos/la-biblia-en-la-literatura-occidental-online\""
   ]
  },
  {
   "cell_type": "code",
   "execution_count": 45,
   "id": "0a85972b",
   "metadata": {},
   "outputs": [
    {
     "name": "stdout",
     "output_type": "stream",
     "text": [
      "==> at https://www.instituthumanitats.org/es/students/login?destination=/es/cursos/la-biblia-en-la-literatura-occidental-online\n",
      "Note: submit is using submit button: name='r', value='FTYLMfWG'\n"
     ]
    }
   ],
   "source": [
    "go(url)\n",
    "\n",
    "fv(\"1\", \"md\", \"53298754A\")\n",
    "fv(\"1\", \"r\", \"FTYLMfWG\")\n",
    "\n",
    "submit('0')"
   ]
  },
  {
   "cell_type": "code",
   "execution_count": 46,
   "id": "ad6a4770",
   "metadata": {},
   "outputs": [
    {
     "name": "stdout",
     "output_type": "stream",
     "text": [
      "\n",
      "Form #1\n",
      "## __Name__________________ __Type___ __ID________ __Value__________________\n",
      " 1 md                       hidden                 X6RSh0__n7Qeet1i8WE0AHkwYM.uA1EBIaVN ...\n",
      " 2 r                        hidden                 CwP6gE._pBvzLfNDawiCNVcw9BpM1v3IAXsL ...\n",
      "\n"
     ]
    }
   ],
   "source": [
    "showforms()"
   ]
  },
  {
   "cell_type": "code",
   "execution_count": null,
   "id": "957ff53a",
   "metadata": {},
   "outputs": [],
   "source": []
  }
 ],
 "metadata": {
  "kernelspec": {
   "display_name": "Python 3",
   "language": "python",
   "name": "python3"
  },
  "language_info": {
   "codemirror_mode": {
    "name": "ipython",
    "version": 3
   },
   "file_extension": ".py",
   "mimetype": "text/x-python",
   "name": "python",
   "nbconvert_exporter": "python",
   "pygments_lexer": "ipython3",
   "version": "3.8.8"
  }
 },
 "nbformat": 4,
 "nbformat_minor": 5
}
